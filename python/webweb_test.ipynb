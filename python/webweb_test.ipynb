{
 "cells": [
  {
   "cell_type": "code",
   "execution_count": 1,
   "metadata": {},
   "outputs": [],
   "source": [
    "from webwebpy.webweb import webweb"
   ]
  },
  {
   "cell_type": "code",
   "execution_count": 2,
   "metadata": {},
   "outputs": [],
   "source": [
    "import random\n",
    "import numpy as np\n",
    "\n",
    "# Build a simple network\n",
    "N = 100\n",
    "adjaceny_list = [[random.randint(0, N-1), random.randint(0, N-1), np.random.randn()] for _ in range(100)]\n",
    "\n",
    "# Instantiate webweb object\n",
    "web = webweb(num_nodes=100)\n",
    "\n",
    "# Assign adjaceny lists in network\n",
    "web.networks.simple.adj = adjaceny_list\n",
    "\n",
    "# # Save as json with name \"advanced_example\"\n",
    "# web.save_json(\"testtes\")"
   ]
  },
  {
   "cell_type": "code",
   "execution_count": null,
   "metadata": {},
   "outputs": [],
   "source": [
    "# Launch webbrowser with result\n",
    "web.draw()"
   ]
  }
 ],
 "metadata": {
  "kernelspec": {
   "display_name": "Python 2",
   "language": "python",
   "name": "python2"
  },
  "language_info": {
   "codemirror_mode": {
    "name": "ipython",
    "version": 2
   },
   "file_extension": ".py",
   "mimetype": "text/x-python",
   "name": "python",
   "nbconvert_exporter": "python",
   "pygments_lexer": "ipython2",
   "version": "2.7.14"
  }
 },
 "nbformat": 4,
 "nbformat_minor": 2
}
